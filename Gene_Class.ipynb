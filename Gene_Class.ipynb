{
 "cells": [
  {
   "cell_type": "code",
   "execution_count": 13,
   "id": "90812fd3",
   "metadata": {},
   "outputs": [
    {
     "name": "stdout",
     "output_type": "stream",
     "text": [
      "cox2\n"
     ]
    }
   ],
   "source": [
    "class Genes\n",
    "  \n",
    "  #attr_accessor :name\n",
    "\n",
    "  def initialize (gename:)\n",
    "    @name = gename\n",
    "    \n",
    "  end\n",
    "\n",
    "end\n",
    "\n",
    "gene1=Genes.new(gename: \"cox2\")\n",
    "puts gene1.name"
   ]
  }
 ],
 "metadata": {
  "kernelspec": {
   "display_name": "Ruby 3.0.0",
   "language": "ruby",
   "name": "ruby"
  },
  "language_info": {
   "file_extension": ".rb",
   "mimetype": "application/x-ruby",
   "name": "ruby",
   "version": "3.0.0"
  }
 },
 "nbformat": 4,
 "nbformat_minor": 5
}
