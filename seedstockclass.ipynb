{
 "cells": [
  {
   "cell_type": "code",
   "execution_count": 36,
   "id": "51c7e5cf",
   "metadata": {},
   "outputs": [
    {
     "data": {
      "text/plain": [
       "#<#<Class:0x0000562e5397a8d8>::Seedstock:0x0000562e54095370 @table=#<CSV::Table mode:col_or_row row_count:6>>"
      ]
     },
     "execution_count": 36,
     "metadata": {},
     "output_type": "execute_result"
    }
   ],
   "source": [
    "require 'csv'\n",
    "class Seedstock\n",
    "  \n",
    "  def initialize (stockpath:)\n",
    "    #return unless File.exist?(\"File doesn't exist\")\n",
    "    \n",
    "    @table = CSV.parse(File.read(stockpath), headers: true)\n",
    "  end\n",
    "\n",
    "\n",
    "  def seeds (seednum:)\n",
    "    @number = seednum\n",
    "    puts t\n",
    "  end\n",
    "    \n",
    "end\n",
    "\n",
    "\n",
    "stock = Seedstock.new(stockpath: \"/home/osboxes/bioinfogit/bioinfo_Chals/seed_stock_data.tsv\")\n",
    "\n"
   ]
  },
  {
   "cell_type": "code",
   "execution_count": 28,
   "id": "26f90dd0",
   "metadata": {},
   "outputs": [
    {
     "ename": "NameError",
     "evalue": "undefined local variable or method `csv' for #<Object:0x0000562e53980a80 @prompt={:PROMPT_I=>\"3.0.0 :%03n > \", :PROMPT_S=>\"3.0.0 :%03n%l> \", :PROMPT_C=>\"3.0.0 :%03n > \", :PROMPT_N=>\"3.0.0 :%03n?> \", :RETURN=>\" => %s \\n\", :AUTO_INDENT=>true}>\nDid you mean?  CSV",
     "output_type": "error",
     "traceback": [
      "\u001b[31mNameError\u001b[0m: undefined local variable or method `csv' for #<Object:0x0000562e53980a80 @prompt={:PROMPT_I=>\"3.0.0 :%03n > \", :PROMPT_S=>\"3.0.0 :%03n%l> \", :PROMPT_C=>\"3.0.0 :%03n > \", :PROMPT_N=>\"3.0.0 :%03n?> \", :RETURN=>\" => %s \\n\", :AUTO_INDENT=>true}>\nDid you mean?  CSV",
      "(irb):5:in `<main>'"
     ]
    }
   ],
   "source": [
    "require 'csv'\n",
    "\n",
    "table = CSV.parse(File.read(\"/home/osboxes/bioinfogit/bioinfo_Chals/seed_stock_data.tsv\"), headers: true)\n",
    "\n",
    "\n",
    "puts csv.table[1]\n",
    "\n",
    "table.class()"
   ]
  }
 ],
 "metadata": {
  "kernelspec": {
   "display_name": "Ruby 3.0.0",
   "language": "ruby",
   "name": "ruby"
  },
  "language_info": {
   "file_extension": ".rb",
   "mimetype": "application/x-ruby",
   "name": "ruby",
   "version": "3.0.0"
  }
 },
 "nbformat": 4,
 "nbformat_minor": 5
}
