{
 "cells": [
  {
   "cell_type": "code",
   "execution_count": 56,
   "id": "37a7bffb",
   "metadata": {},
   "outputs": [
    {
     "name": "stdout",
     "output_type": "stream",
     "text": [
      "Seed_Stock\tMutant_Gene_ID\tLast_Planted\tStorage\tGrams_Remaining\n",
      "A51\tAT1G30950\t9/2/2013\tcama25\t5\n",
      "Seed_Stock\tMutant_Gene_ID\tLast_Planted\tStorage\tGrams_Remaining\n",
      "A334\tAT1G69120\t5/7/2014\tcama2\t28\n",
      "A348\tAT4G36920\t3/11/2013\tcama25\t12\n",
      "B3334\tAT3G54340\t1/12/2014\tcama18\t22\n",
      "A51\tAT1G30950\t9/2/2013\tcama25\t5\n",
      "B52\tAT5G20240\t8/11/2012\tcama16\t7\n",
      "4\n"
     ]
    }
   ],
   "source": [
    "require 'csv'\n",
    "class Seedstock\n",
    "  \n",
    "  attr_accessor :table\n",
    "  \n",
    "  def initialize (stockpath:)\n",
    "    #return unless File.exist?(\"File doesn't exist\")\n",
    "    @path = stockpath\n",
    "    @table = CSV.parse(File.read(stockpath), headers: true)\n",
    "  end\n",
    "\n",
    "\n",
    "  def seeding (seednum)\n",
    "    path = @path\n",
    "    CSV.foreach(path) {|row| puts row}\n",
    "    \n",
    "    # return error message if value < 0\n",
    "    return seednum\n",
    "  end\n",
    "    \n",
    "end\n",
    "\n",
    "\n",
    "stock = Seedstock.new(stockpath: \"/home/osboxes/bioinfogit/bioinfo_Chals/seed_stock_data.tsv\")\n",
    "\n",
    "puts stock.table[3]\n",
    "\n",
    "puts stock.seeding(4)\n"
   ]
  },
  {
   "cell_type": "code",
   "execution_count": 28,
   "id": "0c0e76e4",
   "metadata": {},
   "outputs": [
    {
     "ename": "NameError",
     "evalue": "undefined local variable or method `csv' for #<Object:0x0000562e53980a80 @prompt={:PROMPT_I=>\"3.0.0 :%03n > \", :PROMPT_S=>\"3.0.0 :%03n%l> \", :PROMPT_C=>\"3.0.0 :%03n > \", :PROMPT_N=>\"3.0.0 :%03n?> \", :RETURN=>\" => %s \\n\", :AUTO_INDENT=>true}>\nDid you mean?  CSV",
     "output_type": "error",
     "traceback": [
      "\u001b[31mNameError\u001b[0m: undefined local variable or method `csv' for #<Object:0x0000562e53980a80 @prompt={:PROMPT_I=>\"3.0.0 :%03n > \", :PROMPT_S=>\"3.0.0 :%03n%l> \", :PROMPT_C=>\"3.0.0 :%03n > \", :PROMPT_N=>\"3.0.0 :%03n?> \", :RETURN=>\" => %s \\n\", :AUTO_INDENT=>true}>\nDid you mean?  CSV",
      "(irb):5:in `<main>'"
     ]
    }
   ],
   "source": [
    "require 'csv'\n",
    "\n",
    "table = CSV.parse(File.read(\"/home/osboxes/bioinfogit/bioinfo_Chals/seed_stock_data.tsv\"), headers: true)\n",
    "\n",
    "\n",
    "puts csv.table[1]\n",
    "\n",
    "table.class()"
   ]
  }
 ],
 "metadata": {
  "kernelspec": {
   "display_name": "Ruby 3.0.0",
   "language": "ruby",
   "name": "ruby"
  },
  "language_info": {
   "file_extension": ".rb",
   "mimetype": "application/x-ruby",
   "name": "ruby",
   "version": "3.0.0"
  }
 },
 "nbformat": 4,
 "nbformat_minor": 5
}
